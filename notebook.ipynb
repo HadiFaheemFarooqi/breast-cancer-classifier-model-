{
 "cells": [
  {
   "cell_type": "markdown",
   "id": "0d6195e5",
   "metadata": {},
   "source": [
    "These are all the models we need, along with specific parts of the scikit-learn library, since it is very big and importing all of it is inefficent."
   ]
  },
  {
   "cell_type": "code",
   "execution_count": null,
   "id": "db5702fc",
   "metadata": {},
   "outputs": [],
   "source": [
    "import pandas as pd \n",
    "import matplotlib.pyplot as plt\n",
    "import seaborn as sns\n",
    "from sklearn.model_selection import train_test_split\n",
    "from sklearn.preprocessing import StandardScaler, LabelEncoder\n",
    "from sklearn.linear_model import LogisticRegression\n",
    "from sklearn.metrics import accuracy_score, classification_report\n",
    "from sklearn.metrics import ConfusionMatrixDisplay"
   ]
  },
  {
   "cell_type": "markdown",
   "id": "258a6b12",
   "metadata": {},
   "source": [
    "Read the csv, along with the head to get an overview of the dataset."
   ]
  },
  {
   "cell_type": "markdown",
   "id": "129d0a80",
   "metadata": {},
   "source": [
    "simple data preparation to deal with any possible nulls."
   ]
  },
  {
   "cell_type": "code",
   "execution_count": null,
   "id": "04e18f3d",
   "metadata": {},
   "outputs": [],
   "source": [
    "df.info()"
   ]
  },
  {
   "cell_type": "code",
   "execution_count": null,
   "id": "5b91ee2b",
   "metadata": {},
   "outputs": [],
   "source": [
    "df.isna().sum()"
   ]
  },
  {
   "cell_type": "code",
   "execution_count": null,
   "id": "39737a13",
   "metadata": {},
   "outputs": [],
   "source": [
    "df.duplicated().sum()"
   ]
  },
  {
   "cell_type": "markdown",
   "id": "ab8075a9",
   "metadata": {},
   "source": [
    "This is the distribtution of diagnosis, as you can see, this dataset is somewhat imbalanced."
   ]
  },
  {
   "cell_type": "code",
   "execution_count": null,
   "id": "2a1f7e25",
   "metadata": {},
   "outputs": [],
   "source": [
    "sns.countplot(data=df, x='diagnosis')\n",
    "plt.title('Diagnosis Distribution')\n",
    "plt.xlabel('Diagnosis (M = Malignant, B = Benign)')\n",
    "plt.ylabel('Count')\n",
    "plt.show()"
   ]
  },
  {
   "cell_type": "markdown",
   "id": "60ca3f89",
   "metadata": {},
   "source": [
    "# Model Building"
   ]
  },
  {
   "cell_type": "markdown",
   "id": "4be65754",
   "metadata": {},
   "source": [
    "The features for the model are set here"
   ]
  },
  {
   "cell_type": "code",
   "execution_count": null,
   "id": "ec7d65f5",
   "metadata": {},
   "outputs": [],
   "source": [
    "X = df.drop(['id', 'diagnosis'], axis=1)\n",
    "y = df['diagnosis']\n"
   ]
  },
  {
   "cell_type": "markdown",
   "id": "9b6a8bcb",
   "metadata": {},
   "source": [
    "Here the diagnosis were one hot encoded"
   ]
  },
  {
   "cell_type": "code",
   "execution_count": null,
   "id": "3b426d93",
   "metadata": {},
   "outputs": [],
   "source": [
    "le = LabelEncoder()\n",
    "y_encoded = le.fit_transform(y)\n",
    "print(\"\\nMapping of original diagnosis to encoded values:\")\n",
    "for original, encoded in zip(le.classes_, le.transform(le.classes_)):\n",
    "    print(f\"'{original}': {encoded}\")"
   ]
  },
  {
   "cell_type": "markdown",
   "id": "0d43c7c0",
   "metadata": {},
   "source": [
    "the dataset was split here with a 80/20 split here"
   ]
  },
  {
   "cell_type": "code",
   "execution_count": null,
   "id": "70cbc4b7",
   "metadata": {},
   "outputs": [],
   "source": [
    "X_train, X_test, y_train, y_test = train_test_split(X, y_encoded, test_size=0.2, random_state=42)"
   ]
  },
  {
   "cell_type": "markdown",
   "id": "cbd9ec5c",
   "metadata": {},
   "source": [
    "Simple snippet for the regression model, along with the accuracy, which is 97%"
   ]
  },
  {
   "cell_type": "code",
   "execution_count": null,
   "id": "580d7df8",
   "metadata": {},
   "outputs": [],
   "source": [
    "scaler = StandardScaler()\n",
    "X_train_scaled = scaler.fit_transform(X_train)\n",
    "X_test_scaled = scaler.transform(X_test)\n",
    "\n",
    "model = LogisticRegression(random_state=42)\n",
    "\n",
    "model.fit(X_train_scaled, y_train)\n",
    "\n",
    "y_pred = model.predict(X_test_scaled)\n",
    "\n",
    "accuracy = accuracy_score(y_test, y_pred)\n",
    "report = classification_report(y_test, y_pred, target_names=le.classes_)\n",
    "\n",
    "print(\"\\nModel Accuracy:\", accuracy)\n",
    "print(\"\\nClassification Report:\\n\", report)"
   ]
  },
  {
   "cell_type": "markdown",
   "id": "73e7c421",
   "metadata": {},
   "source": [
    "To better visualize, here is a confusion matrix"
   ]
  },
  {
   "cell_type": "code",
   "execution_count": null,
   "id": "17656109",
   "metadata": {},
   "outputs": [],
   "source": [
    "class_names = le.classes_\n",
    "plt.figure(figsize=(8, 6))\n",
    "disp = ConfusionMatrixDisplay.from_predictions(y_test, y_pred, display_labels=class_names, cmap=plt.cm.Blues)\n",
    "plt.title('Confusion Matrix')"
   ]
  },
  {
   "cell_type": "markdown",
   "id": "af85d68c",
   "metadata": {},
   "source": [
    "Notebook Author:\n",
    "# Hadi Faheem Farooqi \n",
    "Dataset link:\n",
    "https://www.kaggle.com/datasets/yasserh/breast-cancer-dataset/data"
   ]
  },
  {
   "cell_type": "markdown",
   "id": "68493ecd",
   "metadata": {},
   "source": []
  }
 ],
 "metadata": {
  "kernelspec": {
   "display_name": "Python 3",
   "language": "python",
   "name": "python3"
  },
  "language_info": {
   "codemirror_mode": {
    "name": "ipython",
    "version": 3
   },
   "file_extension": ".py",
   "mimetype": "text/x-python",
   "name": "python",
   "nbconvert_exporter": "python",
   "pygments_lexer": "ipython3",
   "version": "3.13.7"
  }
 },
 "nbformat": 4,
 "nbformat_minor": 5
}
